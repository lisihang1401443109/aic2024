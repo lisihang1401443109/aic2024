{
 "cells": [
  {
   "cell_type": "code",
   "execution_count": 1,
   "metadata": {},
   "outputs": [],
   "source": [
    "import os"
   ]
  },
  {
   "cell_type": "code",
   "execution_count": null,
   "metadata": {},
   "outputs": [],
   "source": []
  },
  {
   "cell_type": "code",
   "execution_count": 2,
   "metadata": {},
   "outputs": [],
   "source": [
    "det_path = '/WAVE/workarea/users/sli13/AIC23_MTPC/yolov8/results'"
   ]
  },
  {
   "cell_type": "code",
   "execution_count": 3,
   "metadata": {},
   "outputs": [],
   "source": [
    "trk_path = '/WAVE/workarea/users/sli13/AIC23_MTPC/UCMCTrack/trk_results'"
   ]
  },
  {
   "cell_type": "code",
   "execution_count": 4,
   "metadata": {},
   "outputs": [],
   "source": [
    "# def consistency_check(det_res, trk_res):\n",
    "    \n",
    "#     try:\n",
    "#         det = open(det_res, 'r').readlines()\n",
    "#     except FileNotFoundError:\n",
    "#         print('no detection result for {}'.format(det_res))\n",
    "#         return\n",
    "    \n",
    "#     try:\n",
    "#         trk = open(trk_res, 'r').readlines()\n",
    "#     except FileNotFoundError:\n",
    "#         print('no tracking result for {}'.format(trk_res))\n",
    "#         return\n",
    "    \n",
    "#     det_lines = list(det)\n",
    "#     trk_lines=  list(trk)\n",
    "    \n",
    "#     if len(det_lines) != len(trk_lines):\n",
    "#         print('detection and tracking results not equal for {}'.format(trk_res))\n",
    "#         print(len(det_lines), len(trk_lines))\n",
    "#         return\n",
    "    \n",
    "#     return"
   ]
  },
  {
   "cell_type": "code",
   "execution_count": 5,
   "metadata": {},
   "outputs": [],
   "source": [
    "def consistency_check(det_res, trk_res):\n",
    "    \n",
    "    try:\n",
    "        det = open(det_res, 'r').readlines()\n",
    "    except FileNotFoundError:\n",
    "        print('no detection result for {}'.format(det_res))\n",
    "        return\n",
    "    \n",
    "    try:\n",
    "        trk = open(trk_res, 'r').readlines()\n",
    "    except FileNotFoundError:\n",
    "        print('no tracking result for {}'.format(trk_res))\n",
    "        return\n",
    "    \n",
    "    det_lines = list(det)\n",
    "    trk_lines=  list(trk)\n",
    "    \n",
    "    def conf_filter(line, threshold = 0.5):\n",
    "        conf = float(line.strip().split()[-1])\n",
    "        return conf >= threshold\n",
    "    \n",
    "    det_filtered = [d for d in det_lines if conf_filter(d)]\n",
    "    \n",
    "    if len(det_filtered) != len(trk_lines):\n",
    "        print('detection and tracking results not equal for {}'.format(trk_res))\n",
    "        print(len(det_filtered), len(trk_lines))\n",
    "        return\n",
    "    else:\n",
    "        print(f'consistent results for {trk_res} with {det_res}')\n",
    "        return"
   ]
  },
  {
   "cell_type": "code",
   "execution_count": 6,
   "metadata": {},
   "outputs": [],
   "source": [
    "# for scene in os.listdir(trk_path):\n",
    "#     for cam in os.listdir(os.path.join(trk_path,scene)):\n",
    "#         det_res = os.path.join(det_path,scene,cam+'.txt')\n",
    "#         trk_res = os.path.join(trk_path,scene,cam, 'trk_results.txt')\n",
    "        \n",
    "#         consistency_check(det_res, trk_res)\n",
    "        "
   ]
  },
  {
   "cell_type": "code",
   "execution_count": 7,
   "metadata": {},
   "outputs": [],
   "source": [
    "from aic_path_manager import AIC_PATH"
   ]
  },
  {
   "cell_type": "code",
   "execution_count": 8,
   "metadata": {},
   "outputs": [],
   "source": [
    "path = AIC_PATH()"
   ]
  },
  {
   "cell_type": "code",
   "execution_count": 11,
   "metadata": {},
   "outputs": [
    {
     "data": {
      "text/plain": [
       "{'tracklet': '/WAVE/workarea/users/sli13/AIC23_MTPC/UCMCTrack/trk_results/scene_061/camera_0535/trk_results.txt',\n",
       " 'embedding': '/WAVE/workarea/users/sli13/AIC23_MTPC/fast-reid/aic_results/scene_061/camera_0535.npy',\n",
       " 'detection': '/WAVE/workarea/users/sli13/AIC23_MTPC/yolov8/results/scene_061/camera_0535.txt',\n",
       " 'video': '/WAVE/workarea/users/sli13/AIC23_MTPC/data/aic24/test/scene_061/camera_0535/video.mp4'}"
      ]
     },
     "execution_count": 11,
     "metadata": {},
     "output_type": "execute_result"
    }
   ],
   "source": [
    "path['scene_061', 'camera_0535']"
   ]
  },
  {
   "cell_type": "code",
   "execution_count": 12,
   "metadata": {},
   "outputs": [],
   "source": [
    "from aic_hungarian import collectDetctionsAndEmbeddings"
   ]
  },
  {
   "cell_type": "code",
   "execution_count": 13,
   "metadata": {},
   "outputs": [],
   "source": [
    "collectDetctionsAndEmbeddings('scene_061')"
   ]
  },
  {
   "cell_type": "code",
   "execution_count": null,
   "metadata": {},
   "outputs": [],
   "source": []
  }
 ],
 "metadata": {
  "kernelspec": {
   "display_name": "deepocsort",
   "language": "python",
   "name": "python3"
  },
  "language_info": {
   "codemirror_mode": {
    "name": "ipython",
    "version": 3
   },
   "file_extension": ".py",
   "mimetype": "text/x-python",
   "name": "python",
   "nbconvert_exporter": "python",
   "pygments_lexer": "ipython3",
   "version": "3.9.18"
  }
 },
 "nbformat": 4,
 "nbformat_minor": 2
}
