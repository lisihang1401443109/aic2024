{
 "cells": [
  {
   "cell_type": "code",
   "execution_count": 8,
   "metadata": {},
   "outputs": [
    {
     "name": "stdout",
     "output_type": "stream",
     "text": [
      "/WAVE/workarea/users/sli13/AIC23_MTPC/Deep-OC-SORT\n"
     ]
    }
   ],
   "source": [
    "%cd /WAVE/workarea/users/sli13/AIC23_MTPC/Deep-OC-SORT"
   ]
  },
  {
   "cell_type": "code",
   "execution_count": 9,
   "metadata": {},
   "outputs": [
    {
     "name": "stdout",
     "output_type": "stream",
     "text": [
      "\u001b[0m\u001b[38;5;33mcache\u001b[0m/  dataset.py  LICENSE.md  \u001b[38;5;13mpipeline.png\u001b[0m  \u001b[38;5;33mresults\u001b[0m/  \u001b[38;5;33mtrackers\u001b[0m/\r\n",
      "\u001b[38;5;33mdata\u001b[0m/   \u001b[38;5;33mexternal\u001b[0m/   main.py     README.md     setup.py  utils.py\r\n"
     ]
    }
   ],
   "source": [
    "%ls"
   ]
  },
  {
   "cell_type": "code",
   "execution_count": 10,
   "metadata": {},
   "outputs": [],
   "source": [
    "import os\n",
    "import external."
   ]
  },
  {
   "cell_type": "code",
   "execution_count": null,
   "metadata": {},
   "outputs": [],
   "source": []
  }
 ],
 "metadata": {
  "kernelspec": {
   "display_name": "Python 3 (ipykernel)",
   "language": "python",
   "name": "python3"
  },
  "language_info": {
   "codemirror_mode": {
    "name": "ipython",
    "version": 3
   },
   "file_extension": ".py",
   "mimetype": "text/x-python",
   "name": "python",
   "nbconvert_exporter": "python",
   "pygments_lexer": "ipython3",
   "version": "3.11.5"
  }
 },
 "nbformat": 4,
 "nbformat_minor": 2
}
