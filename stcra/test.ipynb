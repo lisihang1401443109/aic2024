{
 "cells": [
  {
   "cell_type": "code",
   "execution_count": 1,
   "metadata": {},
   "outputs": [],
   "source": [
    "import numpy as np"
   ]
  },
  {
   "cell_type": "code",
   "execution_count": 2,
   "metadata": {},
   "outputs": [],
   "source": [
    "arr1 = [('0535', [-20.5147453782823, 27.877020522952773], [957.5, 511.5, 77.0, 231.0, 996.0, 730.95, 0.87]), ('0536', [-20.24903694785774, 28.672497321896817], [956.0, 512.5, 64.0, 219.0, 988.0, 720.55, 0.81]), ('0541', [-17.533798649872534, 9.805389556246745], [961.5, 566.5, 61.0, 177.0, 992.0, 734.65, 0.79])]"
   ]
  },
  {
   "cell_type": "code",
   "execution_count": 4,
   "metadata": {},
   "outputs": [],
   "source": [
    "arr1 = np.array(arr1, dtype=object)"
   ]
  },
  {
   "cell_type": "code",
   "execution_count": 5,
   "metadata": {},
   "outputs": [
    {
     "data": {
      "text/plain": [
       "array([['0535', list([-20.5147453782823, 27.877020522952773]),\n",
       "        list([957.5, 511.5, 77.0, 231.0, 996.0, 730.95, 0.87])],\n",
       "       ['0536', list([-20.24903694785774, 28.672497321896817]),\n",
       "        list([956.0, 512.5, 64.0, 219.0, 988.0, 720.55, 0.81])],\n",
       "       ['0541', list([-17.533798649872534, 9.805389556246745]),\n",
       "        list([961.5, 566.5, 61.0, 177.0, 992.0, 734.65, 0.79])]],\n",
       "      dtype=object)"
      ]
     },
     "execution_count": 5,
     "metadata": {},
     "output_type": "execute_result"
    }
   ],
   "source": [
    "arr1"
   ]
  },
  {
   "cell_type": "code",
   "execution_count": 6,
   "metadata": {},
   "outputs": [
    {
     "data": {
      "text/plain": [
       "array([['0535', list([-20.5147453782823, 27.877020522952773]),\n",
       "        list([957.5, 511.5, 77.0, 231.0, 996.0, 730.95, 0.87])],\n",
       "       ['0541', list([-17.533798649872534, 9.805389556246745]),\n",
       "        list([961.5, 566.5, 61.0, 177.0, 992.0, 734.65, 0.79])]],\n",
       "      dtype=object)"
      ]
     },
     "execution_count": 6,
     "metadata": {},
     "output_type": "execute_result"
    }
   ],
   "source": [
    "np.delete(arr1, 1, axis=0)"
   ]
  },
  {
   "cell_type": "code",
   "execution_count": 7,
   "metadata": {},
   "outputs": [
    {
     "data": {
      "text/plain": [
       "array([['0535', list([-20.5147453782823, 27.877020522952773]),\n",
       "        list([957.5, 511.5, 77.0, 231.0, 996.0, 730.95, 0.87])],\n",
       "       ['0536', list([-20.24903694785774, 28.672497321896817]),\n",
       "        list([956.0, 512.5, 64.0, 219.0, 988.0, 720.55, 0.81])],\n",
       "       ['0541', list([-17.533798649872534, 9.805389556246745]),\n",
       "        list([961.5, 566.5, 61.0, 177.0, 992.0, 734.65, 0.79])]],\n",
       "      dtype=object)"
      ]
     },
     "execution_count": 7,
     "metadata": {},
     "output_type": "execute_result"
    }
   ],
   "source": [
    "arr1"
   ]
  },
  {
   "cell_type": "code",
   "execution_count": null,
   "metadata": {},
   "outputs": [],
   "source": []
  }
 ],
 "metadata": {
  "kernelspec": {
   "display_name": "ucmc",
   "language": "python",
   "name": "python3"
  },
  "language_info": {
   "codemirror_mode": {
    "name": "ipython",
    "version": 3
   },
   "file_extension": ".py",
   "mimetype": "text/x-python",
   "name": "python",
   "nbconvert_exporter": "python",
   "pygments_lexer": "ipython3",
   "version": "3.9.18"
  }
 },
 "nbformat": 4,
 "nbformat_minor": 2
}
